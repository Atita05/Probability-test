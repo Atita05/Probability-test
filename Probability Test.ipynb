{
 "cells": [
  {
   "cell_type": "markdown",
   "metadata": {},
   "source": [
    "Importing the libraries that are needed for this tasks"
   ]
  },
  {
   "cell_type": "markdown",
   "metadata": {},
   "source": [
    "#  (A) snooker match probability question"
   ]
  },
  {
   "cell_type": "markdown",
   "metadata": {},
   "source": [
    "Task given(A) :- Snooker  it can be Decision tree problem\n",
    "Carry out your workings in R, Python or Go and separately, state any assumptions you make and the consequences of a departure from those assumptions.\n",
    "\n",
    "In a best of 9 frame snooker match between Player A and Player B, it is estimated that the probability for Player A to win the first frame is 55%. Using this information:\n",
    "\n",
    "\n",
    "\n",
    "\n",
    "b) estimate the probability for there to be at least 8 frames played in the match\n",
    "\n",
    "\n"
   ]
  },
  {
   "cell_type": "markdown",
   "metadata": {},
   "source": [
    "# Task A:- a) estimate the probability for Player A to win the match,"
   ]
  },
  {
   "cell_type": "markdown",
   "metadata": {},
   "source": [
    "Logic:- Assuming that ,\n",
    "if Probablity of A winning = Probablity of A winning it in first frame + 4 others\n",
    "or \n",
    "Probablity of A winning= Probablity of losing first frame + winning 5 others\n",
    "\n",
    "Probablity of A winning first frame + 4 others -> winning the first frame and any 4 successive frames.\n",
    "\n",
    "Probablity of losing first frame + winning 5 others -> winning the first frame and any 4 successive frames.\n",
    "\n",
    "as we know the equation:-\n",
    "\n",
    "$P(X=x) = nCx \\cdot p^{x} \\cdot q^{n-x}$"
   ]
  },
  {
   "cell_type": "code",
   "execution_count": 24,
   "metadata": {},
   "outputs": [],
   "source": [
    "import math\n",
    "#Creating functions \n",
    "def ncr(n,r):\n",
    "    return math.factorial(n)/(math.factorial(r)*math.factorial(n-r))\n",
    "\n",
    "def win_fair(n,r):\n",
    "    return (ncr(n,r)*(0.5**(r))*(0.5**(n-r)))"
   ]
  },
  {
   "cell_type": "code",
   "execution_count": 25,
   "metadata": {},
   "outputs": [],
   "source": [
    "win_first = 0.55*(win_fair(8,4)+win_fair(8,5)+win_fair(8,6)+win_fair(8,7)+win_fair(8,8))\n",
    "lose_first = 0.45*(win_fair(8,5)+win_fair(8,6)+win_fair(8,7)+win_fair(8,8))"
   ]
  },
  {
   "cell_type": "code",
   "execution_count": 26,
   "metadata": {},
   "outputs": [
    {
     "name": "stdout",
     "output_type": "stream",
     "text": [
      "The estimate probability for Player A to win the match is :- 0.514\n"
     ]
    }
   ],
   "source": [
    "Player_A_win_Chances = win_first + lose_first\n",
    "print(f'The estimate probability for Player A to win the match is :- {Player_A_win_Chances:0.3f}')"
   ]
  },
  {
   "cell_type": "markdown",
   "metadata": {},
   "source": [
    "# Task A :- b) estimate the probability for there to be at least 8 frames played in the match\n",
    "\n",
    "Logic:- Asuuming Neither player wins 5 matches out of the first 7"
   ]
  },
  {
   "cell_type": "code",
   "execution_count": 10,
   "metadata": {},
   "outputs": [],
   "source": [
    "# here using different method to find 8 frames playes using Probability mass function\n",
    "import scipy.stats as sp\n",
    "def prob_calc (k, n, p):\n",
    "    x = sp.binom.pmf(k, n, p) \n",
    "    y = x * p\n",
    "    return y"
   ]
  },
  {
   "cell_type": "code",
   "execution_count": 11,
   "metadata": {},
   "outputs": [
    {
     "data": {
      "text/plain": [
       "0.5306322656250001"
      ]
     },
     "execution_count": 11,
     "metadata": {},
     "output_type": "execute_result"
    }
   ],
   "source": [
    "Eight_frames_played = prob_calc(4, 7, .55) + prob_calc(4, 8, .55) + prob_calc(4, 7, .45) + prob_calc(4, 8, .45)\n",
    "Eight_frames_played"
   ]
  },
  {
   "cell_type": "markdown",
   "metadata": {},
   "source": [
    "# Task A:- c) what would be an appropriate level of odds (in decimal format) to offer for Player B to win the match.\n",
    "\n",
    "Logic:- decimal odds = 1/probability"
   ]
  },
  {
   "cell_type": "code",
   "execution_count": 12,
   "metadata": {},
   "outputs": [
    {
     "name": "stdout",
     "output_type": "stream",
     "text": [
      "Fair odds for Player B to win the match would be 2.056\n"
     ]
    }
   ],
   "source": [
    "C = 1/(1-Player_A_win_Chances)\n",
    "print(f'Fair odds for Player B to win the match would be {C:0.3f}')"
   ]
  },
  {
   "cell_type": "markdown",
   "metadata": {},
   "source": [
    "# (B) Football match probability"
   ]
  },
  {
   "cell_type": "markdown",
   "metadata": {},
   "source": [
    "In a football match between Team A and Team B, Team A is estimated to have a goals expectancy of\n",
    "1.5 goals and Team B is estimated to have a goals expectancy of 1.25 goals.\n",
    "\n",
    "\n",
    "Using the Poisson\n",
    "Distribution:\n",
    "    \n",
    "a) estimate the probability for Team A to win the match,\n",
    "\n",
    "b) estimate the probability for there to be at least 2.5 goals in the match\n",
    "\n",
    "c) what would be an appropriate level of odds (in decimal format) to offer for the match to be drawn."
   ]
  },
  {
   "cell_type": "markdown",
   "metadata": {},
   "source": [
    "# # a) estimate the probability for Team A to win the match"
   ]
  },
  {
   "cell_type": "code",
   "execution_count": 18,
   "metadata": {},
   "outputs": [
    {
     "name": "stdout",
     "output_type": "stream",
     "text": [
      "The probability for Team A not to win is 0.6913018067639963\n"
     ]
    }
   ],
   "source": [
    "\n",
    "# here considering GoalsA=maximumBnumber of goals scored by Team A \n",
    "#and Goals B= maximum number of goals scored by Team A\n",
    "\n",
    "from scipy.stats import poisson\n",
    "\n",
    "l_a = 1.3\n",
    "l_b = 1.6\n",
    "goals_A = 5 \n",
    "goals_B = 5 \n",
    "\n",
    "def probablity_team_A_not_to_win(la, lb, x, y):\n",
    "    a = 0\n",
    "    b = 0\n",
    "    p = 0\n",
    "    \n",
    "    for x in range (0, x+1):\n",
    "        b = poisson.pmf(x,lb)\n",
    "        for y in range (x+1, y+1):\n",
    "            a += poisson.pmf(y,la)\n",
    "        p += (a * b)\n",
    "        a = 0\n",
    "    return p\n",
    "\n",
    "probablity_team_A_not_to_win = 1 - p_team_A_win(l_a, l_b, goals_B, goals_A)\n",
    "      \n",
    "print(\"The probability for Team A not to win is {}\".format(probablity_team_A_not_to_win))"
   ]
  },
  {
   "cell_type": "markdown",
   "metadata": {},
   "source": [
    "# Q2.b) Estimate the probability for there to be at least 2.5 goals in the match"
   ]
  },
  {
   "cell_type": "code",
   "execution_count": 20,
   "metadata": {},
   "outputs": [
    {
     "name": "stdout",
     "output_type": "stream",
     "text": [
      "probability for there to be at least 2.5 goals in the match is: 0.6696234175498001\n"
     ]
    }
   ],
   "source": [
    "\n",
    "\n",
    "from scipy.stats import poisson\n",
    "\n",
    "l_a = 1.3\n",
    "l_b = 1.6\n",
    "l = l_a + l_b\n",
    "\n",
    "x = 3.6\n",
    "\n",
    "prob = poisson.cdf(x, l) \n",
    "\n",
    "print(\"probability for there to be at least 2.5 goals in the match is:\", prob)"
   ]
  },
  {
   "cell_type": "markdown",
   "metadata": {},
   "source": [
    "# Q2.c) What would be an appropriate level of odds (in decimal format) to offer for the match to be drawn"
   ]
  },
  {
   "cell_type": "code",
   "execution_count": 22,
   "metadata": {},
   "outputs": [
    {
     "name": "stdout",
     "output_type": "stream",
     "text": [
      "The probability for the match to be drawn: 0.2447\n",
      "The corresponding odds in decimal format: 4.09\n"
     ]
    }
   ],
   "source": [
    "# here n goals= maximum number of goals scored by each team\n",
    "from scipy.stats import poisson\n",
    "\n",
    "l_a = 1.3\n",
    "l_b = 1.6\n",
    "n_goals = 10 \n",
    "\n",
    "\n",
    "def p_team_A_win(la, lb, x):\n",
    "    a = 0\n",
    "    b = 0\n",
    "    p = 0\n",
    "    \n",
    "    for x in range (0, x+1):\n",
    "        a = poisson.pmf(x,la)\n",
    "        b = poisson.pmf(x,lb)\n",
    "        p += (a * b)\n",
    "    return p\n",
    "\n",
    "prob = p_team_A_win(l_a, l_b, n_goals)\n",
    "prob2 = round(prob, 4)\n",
    "      \n",
    "print(\"The probability for the match to be drawn: {}\".format(prob2))\n",
    "\n",
    "odds = round((1/prob), 2)\n",
    "\n",
    "print(\"The corresponding odds in decimal format: {}\".format(odds))"
   ]
  },
  {
   "cell_type": "markdown",
   "metadata": {},
   "source": [
    "# (C)  Tennis match"
   ]
  },
  {
   "cell_type": "markdown",
   "metadata": {},
   "source": [
    "In a tennis match, the probability of Player A winning a given point on serve in the first game of the match is 0.52.\n",
    "Find the probability that Player B wins the first game, given player A is serving.\n",
    "Tennis consists of two players, The first player to score at least four points while leading by two points wins the game.\n",
    "\n",
    "Deuce occurrs at 3 points each."
   ]
  },
  {
   "cell_type": "code",
   "execution_count": 35,
   "metadata": {},
   "outputs": [
    {
     "name": "stdout",
     "output_type": "stream",
     "text": [
      "Probability of server to win to 0 (known as love) by obtaining four points in a row from (0,0) is: 0.07311616000000001\n",
      "there are 4 paths for the server to win to 15 and this occurs with probability: 0.1403830272\n",
      "Similarly there are 10 paths for the server to win to 30 and this occurs with probability: 0.16845963264000002\n",
      "the probability of the server winning the game without reaching deuce occurs with probability is: 0.38195881984\n",
      "The probability of the score reaching deuce occurs with probability 0.31100239872\n",
      "The probability of the server winning the game from deuce is : 0.16792142295105433\n",
      "The probability of the server (Player A) winning the game is 0.5498802427910543\n",
      "probability of the receiver (Player B) winning the game: 0.4501197572089457\n",
      "probability of the server (Player A) winning the game: 0.795\n"
     ]
    }
   ],
   "source": [
    "#Probability of server to win to 0 (known as love) by obtaining four points in a row from (0,0):\n",
    "p = 0.52\n",
    "q = 1 - p\n",
    "\n",
    "p_server_win_to_0 = p**4\n",
    "\n",
    "p_server_win_to_0\n",
    "print('Probability of server to win to 0 (known as love) by obtaining four points in a row from (0,0) is:',p_server_win_to_0)\n",
    "\n",
    "# there are 4 paths for the server to win to 15 and this occurs with probability:\n",
    "\n",
    "p = 0.52\n",
    "q = 1 - p\n",
    "\n",
    "p_server_win_to_15 = 4 * p**4 * q\n",
    "\n",
    "p_server_win_to_15\n",
    "print('there are 4 paths for the server to win to 15 and this occurs with probability:',p_server_win_to_15)\n",
    "\n",
    "# Similarly there are 10 paths for the server to win to 30 and this occurs with probability:\n",
    "\n",
    "p = 0.52\n",
    "q = 1 - p\n",
    "\n",
    "p_server_win_to_30 = 10 * p**4 * q**2\n",
    "\n",
    "p_server_win_to_30\n",
    "print('Similarly there are 10 paths for the server to win to 30 and this occurs with probability:',p_server_win_to_30)\n",
    "\n",
    "# Therefore the probability of the server winning the game without reaching deuce occurs with probability\n",
    "\n",
    "p_server_to_win_without_deuce = p_server_win_to_0 + p_server_win_to_15 + p_server_win_to_30\n",
    "\n",
    "p_server_to_win_without_deuce\n",
    "print('the probability of the server winning the game without reaching deuce occurs with probability is:',p_server_to_win_without_deuce)\n",
    "# The probability of the score reaching deuce occurs with probability\n",
    "\n",
    "p = 0.52\n",
    "q = 1 - p\n",
    "\n",
    "p_score_reaching_deuce = 20 * p**3 * q**3\n",
    "\n",
    "p_score_reaching_deuce\n",
    "print('The probability of the score reaching deuce occurs with probability',p_score_reaching_deuce)\n",
    "\n",
    "# The probability of the server winning the game from deuce is obtained as follows:\n",
    "\n",
    "p = 0.52\n",
    "q = 1 - p\n",
    "\n",
    "p_server_to_win_from_deuce = p**2 / (p**2 + q**2) * p_score_reaching_deuce\n",
    "\n",
    "p_server_to_win_from_deuce\n",
    "print('The probability of the server winning the game from deuce is :',p_server_to_win_from_deuce)\n",
    "\n",
    "\n",
    "#The probability of the server (Player A) winning the game is given by (long version):\n",
    "prob_server_winning_v1 = p_server_to_win_without_deuce + p_server_to_win_from_deuce\n",
    "\n",
    "prob_server_winning_v1\n",
    "print('The probability of the server (Player A) winning the game is',prob_server_winning_v1)\n",
    "\n",
    "#The probability of the receiver (Player B) winning the game is given by (long version):\n",
    "#\n",
    "\n",
    "prob_receiver_winning_v2 = 1 - prob_server_winning_v1\n",
    "\n",
    "prob_receiver_winning_v2\n",
    "print('probability of the receiver (Player B) winning the game:',prob_receiver_winning_v2)\n",
    "\n",
    "# probability of the server (Player A) winning the game:\n",
    "\n",
    "p = 0.52\n",
    "q = 1 - p\n",
    "\n",
    "prob_server_winning = p**4 * (1+ 4*q + 10*q**2) + 20 * p**5 * q**3 / (p**2 + q**2)\n",
    "\n",
    "prob_server_winning = round(prob_server_winning, 3)\n",
    "prob_server_winning\n",
    "print('probability of the server (Player A) winning the game:',prob_server_winning)"
   ]
  },
  {
   "cell_type": "markdown",
   "metadata": {},
   "source": [
    "# (D) Horse race"
   ]
  },
  {
   "cell_type": "markdown",
   "metadata": {},
   "source": [
    "In a five horse race, the following table sets out the decimal odds for each horse to win the race.\n",
    "What should the price be for an exact 1-2-3 finish based on Horse A winning, Horse B coming 2nd and Horse C coming 3rd?\n",
    "\n",
    "\n",
    "\n",
    "\n",
    "Horse\tDecimal Odds\n",
    "A\t3.03\n",
    "B\t6.66\n",
    "C\t3.12\n",
    "D\t6.25\n",
    "E\t25"
   ]
  },
  {
   "cell_type": "markdown",
   "metadata": {},
   "source": [
    "Logic:- \n",
    "For an exact 1 2 3 finish we require Horse A to come first, Horse B to come first among the other horses given that Horse A has come first and Horse C to come first among the remaining horses given that Horse A came first and Horse B came second."
   ]
  },
  {
   "cell_type": "code",
   "execution_count": 46,
   "metadata": {},
   "outputs": [
    {
     "name": "stdout",
     "output_type": "stream",
     "text": [
      "The estimated probability of Horse A coming first is is: 0.330\n"
     ]
    }
   ],
   "source": [
    "Prob_A = 1/3.03\n",
    "Prob_B = 1/6.66\n",
    "Prob_C = 1/3.12\n",
    "Prob_D = 1/6.25\n",
    "Prob_E = 1/25\n",
    "Prob_E\n",
    "Prob_D\n",
    "Prob_C\n",
    "Prob_B\n",
    "Prob_A\n",
    "print(f'The estimated probability of Horse A coming first is is: {Prob_A:.03f}')"
   ]
  },
  {
   "cell_type": "code",
   "execution_count": 52,
   "metadata": {},
   "outputs": [
    {
     "name": "stdout",
     "output_type": "stream",
     "text": [
      "The estimated probability of Horse B coming second given Horse A came first is: 0.074\n"
     ]
    }
   ],
   "source": [
    "Prob_B1 = Prob_A * Prob_B * 1/(1-Prob_A)\n",
    "print(f'The estimated probability of Horse B coming second given Horse A came first is: {Prob_B1:.03f}')"
   ]
  },
  {
   "cell_type": "code",
   "execution_count": 49,
   "metadata": {},
   "outputs": [
    {
     "name": "stdout",
     "output_type": "stream",
     "text": [
      "The estimated probability of Horse C coming third given Horse B came second and Horse A came first is: 0.046\n"
     ]
    }
   ],
   "source": [
    "Prob_C1 = Prob_B1 * Prob_C * (1/(1- Prob_A - Prob_B))\n",
    "print(f'The estimated probability of Horse C coming third given Horse B came second and Horse A came first is: {Prob_C1:.03f}')"
   ]
  },
  {
   "cell_type": "code",
   "execution_count": 50,
   "metadata": {},
   "outputs": [
    {
     "name": "stdout",
     "output_type": "stream",
     "text": [
      "Hence the estimated probability an exact 1 2 3 finish is : 0.046\n"
     ]
    }
   ],
   "source": [
    "print(f'Hence the estimated probability an exact 1 2 3 finish is : {Prob_C1 :.03f}')"
   ]
  },
  {
   "cell_type": "code",
   "execution_count": null,
   "metadata": {},
   "outputs": [],
   "source": []
  }
 ],
 "metadata": {
  "kernelspec": {
   "display_name": "Python 3",
   "language": "python",
   "name": "python3"
  },
  "language_info": {
   "codemirror_mode": {
    "name": "ipython",
    "version": 3
   },
   "file_extension": ".py",
   "mimetype": "text/x-python",
   "name": "python",
   "nbconvert_exporter": "python",
   "pygments_lexer": "ipython3",
   "version": "3.8.5"
  }
 },
 "nbformat": 4,
 "nbformat_minor": 4
}
